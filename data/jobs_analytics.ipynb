{
 "cells": [
  {
   "attachments": {},
   "cell_type": "markdown",
   "metadata": {},
   "source": [
    "### Import libraries"
   ]
  },
  {
   "cell_type": "code",
   "execution_count": 43,
   "metadata": {},
   "outputs": [],
   "source": [
    "import pandas as pd\n",
    "from json import loads"
   ]
  },
  {
   "attachments": {},
   "cell_type": "markdown",
   "metadata": {},
   "source": [
    "### Loading and filtering data from csv file"
   ]
  },
  {
   "cell_type": "code",
   "execution_count": 44,
   "metadata": {},
   "outputs": [
    {
     "data": {
      "text/plain": [
       "(354, 6)"
      ]
     },
     "execution_count": 44,
     "metadata": {},
     "output_type": "execute_result"
    }
   ],
   "source": [
    "df = pd.read_csv('jobs_offers.csv')\n",
    "# set job_offer_id as default index\n",
    "df.set_index('job_offer_id', inplace=True)\n",
    "# delete unnecessary columns\n",
    "df.drop(['description', 'company_url', 'date_time', 'criteria'], axis=1, inplace=True)\n",
    "# technologies filter\n",
    "technologies_filter = df['technologies'] != '[]'\n",
    "df = df[technologies_filter]\n",
    "df.shape"
   ]
  },
  {
   "attachments": {},
   "cell_type": "markdown",
   "metadata": {},
   "source": [
    "### Creation of a DataFrame of European countries"
   ]
  },
  {
   "cell_type": "code",
   "execution_count": 45,
   "metadata": {},
   "outputs": [
    {
     "data": {
      "text/plain": [
       "(193, 6)"
      ]
     },
     "execution_count": 45,
     "metadata": {},
     "output_type": "execute_result"
    }
   ],
   "source": [
    "union_european_countries = [\n",
    "    'FRANCE', 'GERMANY', 'BELGIUM', 'DENMARK', 'ESTONIA',\n",
    "    'FINLAND', 'GREECE', 'ICELAND', 'IRELAND', 'ITALY',\n",
    "    'LUXEMBOURG', 'NETHERLANDS', 'NORWAY', 'POLAND',\n",
    "    'PORTUGAL', 'SPAIN', 'SWEDEN', 'SWITZERLAND',\n",
    "]\n",
    "# 18 countries\n",
    "df_ue = df[df.country.isin(union_european_countries)]\n",
    "df_ue.shape"
   ]
  },
  {
   "cell_type": "code",
   "execution_count": 46,
   "metadata": {},
   "outputs": [
    {
     "data": {
      "text/plain": [
       "React         0.101911\n",
       "C#            0.079618\n",
       "Java          0.078025\n",
       "Angular       0.068471\n",
       ".NET          0.068471\n",
       "Python        0.057325\n",
       "Git           0.054140\n",
       "PHP           0.041401\n",
       "TypeScript    0.039809\n",
       "C++           0.028662\n",
       "dtype: float64"
      ]
     },
     "execution_count": 46,
     "metadata": {},
     "output_type": "execute_result"
    }
   ],
   "source": [
    "all_tech = []\n",
    "for json_tech in df_ue.technologies:\n",
    "    all_tech.extend(loads(json_tech))\n",
    "f_technologies = pd.Series(all_tech).value_counts(normalize=True)\n",
    "# print top 10\n",
    "f_technologies.head(10)"
   ]
  },
  {
   "cell_type": "code",
   "execution_count": null,
   "metadata": {},
   "outputs": [],
   "source": []
  }
 ],
 "metadata": {
  "kernelspec": {
   "display_name": "Python 3",
   "language": "python",
   "name": "python3"
  },
  "language_info": {
   "codemirror_mode": {
    "name": "ipython",
    "version": 3
   },
   "file_extension": ".py",
   "mimetype": "text/x-python",
   "name": "python",
   "nbconvert_exporter": "python",
   "pygments_lexer": "ipython3",
   "version": "3.10.5"
  },
  "orig_nbformat": 4,
  "vscode": {
   "interpreter": {
    "hash": "98cfd3921b80fce92f18dc4e1e6b42f6eadf3f9330e6432d51b357bcfc802bfb"
   }
  }
 },
 "nbformat": 4,
 "nbformat_minor": 2
}
