{
 "cells": [
  {
   "attachments": {},
   "cell_type": "markdown",
   "metadata": {},
   "source": [
    "### Introduction\n",
    "\n",
    "#### Français\n",
    "Ce Jupyter Notebook vise à représenter mes propres données que j'ai extraites des sites d'emploi via un processus de web scraping, ces données sont des offres d'emploi provenant essentiellement de LinkedIn, mais à l'avenir, je mettrai en œuvre un scraper pour extraire les offres du site web Indeed, afin d'avoir des données diversifiées. Pour l'instant avec les données que j'ai en ma possession, j'ai représenté sous forme graphique les technologies web les plus couramment utilisées dans les projets web d'entreprise dans les pays de l'UE et certains pays d'Asie.\n",
    "\n",
    "#### English\n",
    "This Jupyter Notebook aims to represent my own data that I extracted from jobboards via a web scraping process, this data is job offers coming mainly from LinkedIn, but in the future I will implement a scraper to extract job offers from Indeed website, in order to have diversified data. For now, with the data I have in my possession, I have represented in graphical form the most commonly used web technologies in companies web projects in EU countries and some Asian countries."
   ]
  },
  {
   "attachments": {},
   "cell_type": "markdown",
   "metadata": {},
   "source": [
    "### Import libraries"
   ]
  },
  {
   "cell_type": "code",
   "execution_count": 1,
   "metadata": {},
   "outputs": [],
   "source": [
    "from pandas import Series, DataFrame, read_csv\n",
    "from json import loads\n",
    "import plotly.express as px"
   ]
  },
  {
   "attachments": {},
   "cell_type": "markdown",
   "metadata": {},
   "source": [
    "### Loading and filtering data"
   ]
  },
  {
   "cell_type": "code",
   "execution_count": 2,
   "metadata": {},
   "outputs": [
    {
     "name": "stdout",
     "output_type": "stream",
     "text": [
      "<class 'pandas.core.frame.DataFrame'>\n",
      "Int64Index: 6116 entries, 1 to 8142\n",
      "Data columns (total 5 columns):\n",
      " #   Column        Non-Null Count  Dtype \n",
      "---  ------        --------------  ----- \n",
      " 0   title         6116 non-null   object\n",
      " 1   location      6114 non-null   object\n",
      " 2   country       6116 non-null   object\n",
      " 3   company_name  6116 non-null   object\n",
      " 4   technologies  6116 non-null   object\n",
      "dtypes: object(5)\n",
      "memory usage: 286.7+ KB\n"
     ]
    }
   ],
   "source": [
    "# data dump from MySQL database at 17/13/2022\n",
    "df = read_csv('jobs_offers.csv', encoding='utf-8')\n",
    "\n",
    "# convert str (json in database) to python dict with loads function\n",
    "df.technologies = df.technologies.apply(lambda str_dict: loads(str_dict))\n",
    "\n",
    "# delete unnecessary columns\n",
    "df.drop(['description', 'company_url', 'date_time',\n",
    "        'criteria', 'job_offer_url'], axis=1, inplace=True)\n",
    "\n",
    "# set job_offer_id as default index\n",
    "df.set_index('job_offer_id', inplace=True)\n",
    "\n",
    "# technologies filter\n",
    "technologies_filter = df.technologies.apply(lambda d: d != None and len(d) > 0)\n",
    "\n",
    "# apply technologies filter to df\n",
    "df = df[technologies_filter]\n",
    "df.info()"
   ]
  },
  {
   "attachments": {},
   "cell_type": "markdown",
   "metadata": {},
   "source": [
    "### Creating DataFrames"
   ]
  },
  {
   "cell_type": "code",
   "execution_count": 3,
   "metadata": {},
   "outputs": [
    {
     "data": {
      "text/plain": [
       "(3301, 5)"
      ]
     },
     "execution_count": 3,
     "metadata": {},
     "output_type": "execute_result"
    }
   ],
   "source": [
    "# 18 countries selected for EU\n",
    "union_european_countries = [\n",
    "    'FRANCE', 'GERMANY', 'BELGIUM', 'DENMARK', 'ESTONIA',\n",
    "    'FINLAND', 'GREECE', 'IRELAND', 'ITALY', 'AUSTRIA',\n",
    "    'LUXEMBOURG', 'NETHERLANDS', 'NORWAY', 'POLAND',\n",
    "    'PORTUGAL', 'SPAIN', 'SWEDEN', 'SWITZERLAND'\n",
    "]\n",
    "# create DataFrame by filtering only countries listed in union_european_countries list\n",
    "df_eu = df.query('country in @union_european_countries')\n",
    "df_eu.shape"
   ]
  },
  {
   "cell_type": "code",
   "execution_count": 4,
   "metadata": {},
   "outputs": [
    {
     "data": {
      "text/plain": [
       "(661, 5)"
      ]
     },
     "execution_count": 4,
     "metadata": {},
     "output_type": "execute_result"
    }
   ],
   "source": [
    "# 5 countries selected for Asia\n",
    "asia_countries = ['SOUTH KOREA', 'CHINA', 'JAPAN', 'THAILAND', 'SINGAPORE']\n",
    "df_asia = df.query('country in @asia_countries')\n",
    "df_asia.shape"
   ]
  },
  {
   "cell_type": "code",
   "execution_count": 5,
   "metadata": {},
   "outputs": [
    {
     "data": {
      "text/plain": [
       "(600, 5)"
      ]
     },
     "execution_count": 5,
     "metadata": {},
     "output_type": "execute_result"
    }
   ],
   "source": [
    "# 3 countries selected for North America\n",
    "n_america_countries = ['UNITED STATES', 'CANADA', 'MEXICO']\n",
    "df_n_america = df.query('country in @n_america_countries')\n",
    "df_n_america.shape"
   ]
  },
  {
   "attachments": {},
   "cell_type": "markdown",
   "metadata": {},
   "source": [
    "### Utility functions"
   ]
  },
  {
   "cell_type": "code",
   "execution_count": 6,
   "metadata": {},
   "outputs": [],
   "source": [
    "def get_frequencies(df: DataFrame) -> dict:\n",
    "    \"\"\" \n",
    "    frequency of technologies by category with\n",
    "    the number of job offers in the same category\n",
    "    \"\"\"\n",
    "    D = {\n",
    "        \"Python Frameworks\": [[], 0],\n",
    "        \"PHP Frameworks\": [[], 0],\n",
    "        \"JavaScript Frameworks\": [[], 0],\n",
    "        \"Main tech\": [[], 0],\n",
    "        \"Java Frameworks\": [[], 0],\n",
    "        \"Project management\": [[], 0],\n",
    "        \"Hosting services\": [[], 0],\n",
    "        \"DBMS\": [[], 0], \"Tests\": [[], 0],\n",
    "        \"Other Frameworks\": [[], 0],\n",
    "        \"App container\": [[], 0],\n",
    "        \"Cloud computing\": [[], 0],\n",
    "        \"CMS\": [[], 0],\n",
    "        \"Bundlers\": [[], 0],\n",
    "        \"Task runners\": [[], 0]\n",
    "    }\n",
    "    for dictionary in df.technologies:\n",
    "        for category in D.keys():\n",
    "            if dictionary.__contains__(category):\n",
    "                D[category][0].extend(dictionary[category])\n",
    "                D[category][1] += 1\n",
    "    return {k: (Series(v[0]).value_counts(normalize=True), v[1]) \n",
    "            for k, v in D.items() if v[1] > 1}"
   ]
  },
  {
   "attachments": {},
   "cell_type": "markdown",
   "metadata": {},
   "source": [
    "### Analysis of EU data"
   ]
  },
  {
   "cell_type": "code",
   "execution_count": 7,
   "metadata": {},
   "outputs": [
    {
     "data": {
      "text/plain": [
       "{'Python Frameworks': (Django     0.627660\n",
       "  Flask      0.255319\n",
       "  FastAPI    0.063830\n",
       "  Pyramid    0.031915\n",
       "  Grok       0.021277\n",
       "  dtype: float64,\n",
       "  78),\n",
       " 'PHP Frameworks': (Laravel        0.415888\n",
       "  Symfony        0.345794\n",
       "  Zend           0.065421\n",
       "  Flight         0.056075\n",
       "  CodeIgniter    0.028037\n",
       "  Slim           0.028037\n",
       "  Laminas        0.023364\n",
       "  Yii            0.023364\n",
       "  CakePHP        0.009346\n",
       "  Lumen          0.004673\n",
       "  dtype: float64,\n",
       "  156),\n",
       " 'JavaScript Frameworks': (React          0.513158\n",
       "  Angular        0.347368\n",
       "  Vue.js         0.094298\n",
       "  Next.js        0.020614\n",
       "  Svelte         0.005702\n",
       "  Express.js     0.005263\n",
       "  Ext            0.003509\n",
       "  Nuxt.js        0.003509\n",
       "  Nest.js        0.002193\n",
       "  Ember.js       0.001754\n",
       "  Aurelia        0.001316\n",
       "  Meteor         0.000877\n",
       "  Backbone.js    0.000439\n",
       "  dtype: float64,\n",
       "  1679),\n",
       " 'Main tech': (Java            0.219621\n",
       "  TypeScript      0.192793\n",
       "  C#              0.170700\n",
       "  Python          0.130195\n",
       "  PHP             0.086796\n",
       "  C++             0.065755\n",
       "  XML             0.031562\n",
       "  Kotlin          0.021831\n",
       "  SCSS            0.020516\n",
       "  Swift           0.014992\n",
       "  Ruby            0.014729\n",
       "  Scala           0.013677\n",
       "  Rust            0.008154\n",
       "  F#              0.002367\n",
       "  Visual Basic    0.002367\n",
       "  XHTML           0.001841\n",
       "  Objective-C     0.001578\n",
       "  XAML            0.000526\n",
       "  dtype: float64,\n",
       "  2501),\n",
       " 'Java Frameworks': (Spring       0.753968\n",
       "  Hibernate    0.224868\n",
       "  Struts       0.013228\n",
       "  Vaadin       0.005291\n",
       "  Grails       0.002646\n",
       "  dtype: float64,\n",
       "  292),\n",
       " 'Project management': (Jira        0.817427\n",
       "  Slack       0.124481\n",
       "  Trello      0.029046\n",
       "  Asana       0.024896\n",
       "  Basecamp    0.004149\n",
       "  dtype: float64,\n",
       "  225),\n",
       " 'Hosting services': (Firebase    1.0\n",
       "  dtype: float64,\n",
       "  25),\n",
       " 'DBMS': (MySQL                   0.251092\n",
       "  Oracle                  0.187773\n",
       "  PostgreSQL              0.174672\n",
       "  MongoDB                 0.148472\n",
       "  Redis                   0.089520\n",
       "  Elasticsearch           0.074236\n",
       "  MariaDB                 0.025109\n",
       "  Microsoft SQL Server    0.024017\n",
       "  Cassandra               0.020742\n",
       "  SQLite                  0.004367\n",
       "  dtype: float64,\n",
       "  655),\n",
       " 'Tests': (Jest         0.349282\n",
       "  Cypress      0.174641\n",
       "  Junit        0.119617\n",
       "  Selenium     0.110048\n",
       "  Jasmine      0.076555\n",
       "  SonarQube    0.076555\n",
       "  Mocha        0.040670\n",
       "  NUnit        0.021531\n",
       "  PHPUnit      0.011962\n",
       "  Vitest       0.009569\n",
       "  Puppeteer    0.007177\n",
       "  AVA          0.002392\n",
       "  dtype: float64,\n",
       "  287),\n",
       " 'Other Frameworks': (.NET             0.962085\n",
       "  Ruby on Rails    0.037915\n",
       "  dtype: float64,\n",
       "  633),\n",
       " 'App container': (Docker        0.594891\n",
       "  Kubernetes    0.405109\n",
       "  dtype: float64,\n",
       "  609),\n",
       " 'Cloud computing': (AWS             0.445446\n",
       "  Azure           0.440036\n",
       "  Google Cloud    0.070334\n",
       "  Salesforce      0.035167\n",
       "  IBM Cloud       0.005410\n",
       "  OpenStack       0.003607\n",
       "  dtype: float64,\n",
       "  879),\n",
       " 'CMS': (WordPress    0.573770\n",
       "  Drupal       0.151639\n",
       "  Shopify      0.114754\n",
       "  Magento      0.114754\n",
       "  Joomla       0.040984\n",
       "  Wix          0.004098\n",
       "  dtype: float64,\n",
       "  199),\n",
       " 'Bundlers': (Webpack       0.658163\n",
       "  Vite          0.112245\n",
       "  Rollup        0.096939\n",
       "  Parcel        0.066327\n",
       "  Browserify    0.040816\n",
       "  esbuild       0.025510\n",
       "  dtype: float64,\n",
       "  156),\n",
       " 'Task runners': (Gulp     0.627907\n",
       "  Grunt    0.372093\n",
       "  dtype: float64,\n",
       "  31)}"
      ]
     },
     "execution_count": 7,
     "metadata": {},
     "output_type": "execute_result"
    }
   ],
   "source": [
    "freq_eu = get_frequencies(df_eu)\n",
    "freq_eu"
   ]
  },
  {
   "attachments": {},
   "cell_type": "markdown",
   "metadata": {},
   "source": [
    "### Analysis of Asia data"
   ]
  },
  {
   "cell_type": "code",
   "execution_count": 8,
   "metadata": {},
   "outputs": [
    {
     "data": {
      "text/plain": [
       "{'Python Frameworks': (Django     0.48\n",
       "  Flask      0.36\n",
       "  FastAPI    0.12\n",
       "  Falcon     0.04\n",
       "  dtype: float64,\n",
       "  17),\n",
       " 'PHP Frameworks': (Laravel        0.555556\n",
       "  Flight         0.111111\n",
       "  CakePHP        0.111111\n",
       "  CodeIgniter    0.111111\n",
       "  Symfony        0.111111\n",
       "  dtype: float64,\n",
       "  15),\n",
       " 'JavaScript Frameworks': (React          0.564706\n",
       "  Angular        0.267647\n",
       "  Next.js        0.067647\n",
       "  Vue.js         0.058824\n",
       "  Nest.js        0.017647\n",
       "  Express.js     0.008824\n",
       "  Ext            0.002941\n",
       "  Svelte         0.002941\n",
       "  Nuxt.js        0.002941\n",
       "  Ember.js       0.002941\n",
       "  Backbone.js    0.002941\n",
       "  dtype: float64,\n",
       "  235),\n",
       " 'Main tech': (Java            0.208333\n",
       "  Python          0.180208\n",
       "  TypeScript      0.145833\n",
       "  C++             0.122917\n",
       "  C#              0.100000\n",
       "  PHP             0.057292\n",
       "  Kotlin          0.050000\n",
       "  Ruby            0.033333\n",
       "  Scala           0.029167\n",
       "  Swift           0.025000\n",
       "  XML             0.020833\n",
       "  SCSS            0.011458\n",
       "  Rust            0.007292\n",
       "  Objective-C     0.005208\n",
       "  F#              0.001042\n",
       "  XHTML           0.001042\n",
       "  Visual Basic    0.001042\n",
       "  dtype: float64,\n",
       "  521),\n",
       " 'Java Frameworks': (Spring       0.759494\n",
       "  Hibernate    0.177215\n",
       "  Struts       0.063291\n",
       "  dtype: float64,\n",
       "  65),\n",
       " 'Project management': (Jira     0.694444\n",
       "  Slack    0.291667\n",
       "  Asana    0.013889\n",
       "  dtype: float64,\n",
       "  57),\n",
       " 'Hosting services': (Firebase    0.833333\n",
       "  Supabase    0.166667\n",
       "  dtype: float64,\n",
       "  6),\n",
       " 'DBMS': (MySQL                   0.221402\n",
       "  Oracle                  0.191882\n",
       "  PostgreSQL              0.158672\n",
       "  MongoDB                 0.147601\n",
       "  Redis                   0.118081\n",
       "  Elasticsearch           0.081181\n",
       "  Cassandra               0.059041\n",
       "  Microsoft SQL Server    0.018450\n",
       "  SQLite                  0.003690\n",
       "  dtype: float64,\n",
       "  165),\n",
       " 'Tests': (SonarQube    0.28\n",
       "  Selenium     0.24\n",
       "  Jest         0.20\n",
       "  Cypress      0.10\n",
       "  NUnit        0.06\n",
       "  Junit        0.04\n",
       "  Jasmine      0.04\n",
       "  PHPUnit      0.02\n",
       "  Mocha        0.02\n",
       "  dtype: float64,\n",
       "  39),\n",
       " 'Other Frameworks': (.NET             0.819149\n",
       "  Ruby on Rails    0.180851\n",
       "  dtype: float64,\n",
       "  94),\n",
       " 'App container': (Docker        0.550725\n",
       "  Kubernetes    0.449275\n",
       "  dtype: float64,\n",
       "  98),\n",
       " 'Cloud computing': (AWS              0.526316\n",
       "  Azure            0.218623\n",
       "  Google Cloud     0.101215\n",
       "  IBM Cloud        0.064777\n",
       "  Salesforce       0.048583\n",
       "  OpenStack        0.028340\n",
       "  Alibaba Cloud    0.008097\n",
       "  Oracle Cloud     0.004049\n",
       "  dtype: float64,\n",
       "  194),\n",
       " 'CMS': (WordPress    0.576923\n",
       "  Magento      0.192308\n",
       "  Drupal       0.153846\n",
       "  Shopify      0.076923\n",
       "  dtype: float64,\n",
       "  22),\n",
       " 'Bundlers': (Webpack    0.741379\n",
       "  esbuild    0.206897\n",
       "  Rollup     0.051724\n",
       "  dtype: float64,\n",
       "  43),\n",
       " 'Task runners': (Gulp     0.846154\n",
       "  Grunt    0.153846\n",
       "  dtype: float64,\n",
       "  12)}"
      ]
     },
     "execution_count": 8,
     "metadata": {},
     "output_type": "execute_result"
    }
   ],
   "source": [
    "freq_asia = get_frequencies(df_asia)\n",
    "freq_asia"
   ]
  },
  {
   "attachments": {},
   "cell_type": "markdown",
   "metadata": {},
   "source": [
    "### Analysis of North America data"
   ]
  },
  {
   "cell_type": "code",
   "execution_count": 9,
   "metadata": {},
   "outputs": [
    {
     "data": {
      "text/plain": [
       "{'Python Frameworks': (Django     0.800000\n",
       "  FastAPI    0.133333\n",
       "  Flask      0.066667\n",
       "  dtype: float64,\n",
       "  15),\n",
       " 'PHP Frameworks': (Laravel        0.5625\n",
       "  Flight         0.1250\n",
       "  Zend           0.1250\n",
       "  Yii            0.1250\n",
       "  CodeIgniter    0.0625\n",
       "  dtype: float64,\n",
       "  14),\n",
       " 'JavaScript Frameworks': (React          0.603491\n",
       "  Angular        0.299252\n",
       "  Vue.js         0.057357\n",
       "  Next.js        0.012469\n",
       "  Express.js     0.007481\n",
       "  Svelte         0.007481\n",
       "  Nuxt.js        0.002494\n",
       "  Aurelia        0.002494\n",
       "  Ext            0.002494\n",
       "  Backbone.js    0.002494\n",
       "  Ember.js       0.002494\n",
       "  dtype: float64,\n",
       "  289),\n",
       " 'Main tech': (Java            0.233509\n",
       "  Python          0.163588\n",
       "  TypeScript      0.133245\n",
       "  C#              0.118734\n",
       "  C++             0.097625\n",
       "  PHP             0.084433\n",
       "  XML             0.035620\n",
       "  Ruby            0.034301\n",
       "  Kotlin          0.026385\n",
       "  Swift           0.026385\n",
       "  SCSS            0.019789\n",
       "  Objective-C     0.011873\n",
       "  Scala           0.007916\n",
       "  XHTML           0.003958\n",
       "  Visual Basic    0.002639\n",
       "  dtype: float64,\n",
       "  419),\n",
       " 'Java Frameworks': (Spring       0.82\n",
       "  Hibernate    0.18\n",
       "  dtype: float64,\n",
       "  41),\n",
       " 'Project management': (Jira     0.779221\n",
       "  Slack    0.168831\n",
       "  Asana    0.051948\n",
       "  dtype: float64,\n",
       "  73),\n",
       " 'Hosting services': (Firebase    1.0\n",
       "  dtype: float64,\n",
       "  5),\n",
       " 'DBMS': (MySQL                   0.277419\n",
       "  MongoDB                 0.200000\n",
       "  Oracle                  0.161290\n",
       "  PostgreSQL              0.148387\n",
       "  Redis                   0.083871\n",
       "  Microsoft SQL Server    0.051613\n",
       "  Elasticsearch           0.038710\n",
       "  MariaDB                 0.019355\n",
       "  Cassandra               0.019355\n",
       "  dtype: float64,\n",
       "  106),\n",
       " 'Tests': (Jest         0.307692\n",
       "  Selenium     0.153846\n",
       "  Cypress      0.128205\n",
       "  Jasmine      0.128205\n",
       "  Junit        0.115385\n",
       "  Mocha        0.076923\n",
       "  PHPUnit      0.038462\n",
       "  SonarQube    0.025641\n",
       "  Puppeteer    0.025641\n",
       "  dtype: float64,\n",
       "  53),\n",
       " 'Other Frameworks': (.NET             0.931818\n",
       "  Ruby on Rails    0.068182\n",
       "  dtype: float64,\n",
       "  88),\n",
       " 'App container': (Docker        0.561798\n",
       "  Kubernetes    0.438202\n",
       "  dtype: float64,\n",
       "  59),\n",
       " 'Cloud computing': (AWS             0.482051\n",
       "  Azure           0.358974\n",
       "  Salesforce      0.092308\n",
       "  Google Cloud    0.051282\n",
       "  IBM Cloud       0.010256\n",
       "  OpenStack       0.005128\n",
       "  dtype: float64,\n",
       "  159),\n",
       " 'CMS': (WordPress      0.441558\n",
       "  Shopify        0.207792\n",
       "  Drupal         0.103896\n",
       "  Magento        0.090909\n",
       "  Ghost          0.064935\n",
       "  Wix            0.038961\n",
       "  Joomla         0.025974\n",
       "  Squarespace    0.012987\n",
       "  Weebly         0.012987\n",
       "  dtype: float64,\n",
       "  58),\n",
       " 'Bundlers': (Webpack       0.882353\n",
       "  Rollup        0.058824\n",
       "  Browserify    0.029412\n",
       "  Vite          0.029412\n",
       "  dtype: float64,\n",
       "  32),\n",
       " 'Task runners': (Gulp     0.56\n",
       "  Grunt    0.44\n",
       "  dtype: float64,\n",
       "  14)}"
      ]
     },
     "execution_count": 9,
     "metadata": {},
     "output_type": "execute_result"
    }
   ],
   "source": [
    "freq_n_america = get_frequencies(df_n_america)\n",
    "freq_n_america"
   ]
  },
  {
   "cell_type": "code",
   "execution_count": 10,
   "metadata": {},
   "outputs": [
    {
     "data": {
      "application/vnd.plotly.v1+json": {
       "config": {
        "plotlyServerURL": "https://plot.ly"
       },
       "data": [
        {
         "alignmentgroup": "True",
         "hovertemplate": "Country=%{x}<br>Number of job offers=%{y}<extra></extra>",
         "legendgroup": "",
         "marker": {
          "color": "#636efa",
          "pattern": {
           "shape": ""
          }
         },
         "name": "",
         "offsetgroup": "",
         "orientation": "v",
         "showlegend": false,
         "textposition": "auto",
         "type": "bar",
         "x": [
          "GERMANY",
          "UNITED STATES",
          "ISRAEL",
          "CANADA",
          "BELGIUM",
          "ITALY",
          "SWEDEN",
          "IRELAND",
          "UNITED KINGDOM",
          "SPAIN",
          "FRANCE",
          "POLAND",
          "CHILE",
          "SWITZERLAND",
          "FINLAND",
          "TURKEY",
          "AUSTRALIA",
          "GREECE",
          "JAPAN",
          "MEXICO",
          "PORTUGAL",
          "COSTA RICA",
          "COLOMBIA",
          "AUSTRIA",
          "DENMARK",
          "CHINA",
          "NORWAY",
          "NETHERLANDS",
          "LUXEMBOURG",
          "NEW ZEALAND",
          "SOUTH KOREA",
          "ESTONIA",
          "SINGAPORE",
          "THAILAND",
          "CZECHIA",
          "TAIWAN",
          "SLOVENIA",
          "QATAR"
         ],
         "xaxis": "x",
         "y": [
          219,
          212,
          211,
          208,
          204,
          202,
          201,
          200,
          200,
          198,
          197,
          196,
          196,
          190,
          188,
          188,
          187,
          186,
          185,
          180,
          177,
          175,
          174,
          171,
          167,
          165,
          164,
          161,
          153,
          153,
          133,
          127,
          110,
          68,
          37,
          19,
          9,
          5
         ],
         "yaxis": "y"
        }
       ],
       "layout": {
        "barmode": "relative",
        "legend": {
         "tracegroupgap": 0
        },
        "template": {
         "data": {
          "bar": [
           {
            "error_x": {
             "color": "#f2f5fa"
            },
            "error_y": {
             "color": "#f2f5fa"
            },
            "marker": {
             "line": {
              "color": "rgb(17,17,17)",
              "width": 0.5
             },
             "pattern": {
              "fillmode": "overlay",
              "size": 10,
              "solidity": 0.2
             }
            },
            "type": "bar"
           }
          ],
          "barpolar": [
           {
            "marker": {
             "line": {
              "color": "rgb(17,17,17)",
              "width": 0.5
             },
             "pattern": {
              "fillmode": "overlay",
              "size": 10,
              "solidity": 0.2
             }
            },
            "type": "barpolar"
           }
          ],
          "carpet": [
           {
            "aaxis": {
             "endlinecolor": "#A2B1C6",
             "gridcolor": "#506784",
             "linecolor": "#506784",
             "minorgridcolor": "#506784",
             "startlinecolor": "#A2B1C6"
            },
            "baxis": {
             "endlinecolor": "#A2B1C6",
             "gridcolor": "#506784",
             "linecolor": "#506784",
             "minorgridcolor": "#506784",
             "startlinecolor": "#A2B1C6"
            },
            "type": "carpet"
           }
          ],
          "choropleth": [
           {
            "colorbar": {
             "outlinewidth": 0,
             "ticks": ""
            },
            "type": "choropleth"
           }
          ],
          "contour": [
           {
            "colorbar": {
             "outlinewidth": 0,
             "ticks": ""
            },
            "colorscale": [
             [
              0,
              "#0d0887"
             ],
             [
              0.1111111111111111,
              "#46039f"
             ],
             [
              0.2222222222222222,
              "#7201a8"
             ],
             [
              0.3333333333333333,
              "#9c179e"
             ],
             [
              0.4444444444444444,
              "#bd3786"
             ],
             [
              0.5555555555555556,
              "#d8576b"
             ],
             [
              0.6666666666666666,
              "#ed7953"
             ],
             [
              0.7777777777777778,
              "#fb9f3a"
             ],
             [
              0.8888888888888888,
              "#fdca26"
             ],
             [
              1,
              "#f0f921"
             ]
            ],
            "type": "contour"
           }
          ],
          "contourcarpet": [
           {
            "colorbar": {
             "outlinewidth": 0,
             "ticks": ""
            },
            "type": "contourcarpet"
           }
          ],
          "heatmap": [
           {
            "colorbar": {
             "outlinewidth": 0,
             "ticks": ""
            },
            "colorscale": [
             [
              0,
              "#0d0887"
             ],
             [
              0.1111111111111111,
              "#46039f"
             ],
             [
              0.2222222222222222,
              "#7201a8"
             ],
             [
              0.3333333333333333,
              "#9c179e"
             ],
             [
              0.4444444444444444,
              "#bd3786"
             ],
             [
              0.5555555555555556,
              "#d8576b"
             ],
             [
              0.6666666666666666,
              "#ed7953"
             ],
             [
              0.7777777777777778,
              "#fb9f3a"
             ],
             [
              0.8888888888888888,
              "#fdca26"
             ],
             [
              1,
              "#f0f921"
             ]
            ],
            "type": "heatmap"
           }
          ],
          "heatmapgl": [
           {
            "colorbar": {
             "outlinewidth": 0,
             "ticks": ""
            },
            "colorscale": [
             [
              0,
              "#0d0887"
             ],
             [
              0.1111111111111111,
              "#46039f"
             ],
             [
              0.2222222222222222,
              "#7201a8"
             ],
             [
              0.3333333333333333,
              "#9c179e"
             ],
             [
              0.4444444444444444,
              "#bd3786"
             ],
             [
              0.5555555555555556,
              "#d8576b"
             ],
             [
              0.6666666666666666,
              "#ed7953"
             ],
             [
              0.7777777777777778,
              "#fb9f3a"
             ],
             [
              0.8888888888888888,
              "#fdca26"
             ],
             [
              1,
              "#f0f921"
             ]
            ],
            "type": "heatmapgl"
           }
          ],
          "histogram": [
           {
            "marker": {
             "pattern": {
              "fillmode": "overlay",
              "size": 10,
              "solidity": 0.2
             }
            },
            "type": "histogram"
           }
          ],
          "histogram2d": [
           {
            "colorbar": {
             "outlinewidth": 0,
             "ticks": ""
            },
            "colorscale": [
             [
              0,
              "#0d0887"
             ],
             [
              0.1111111111111111,
              "#46039f"
             ],
             [
              0.2222222222222222,
              "#7201a8"
             ],
             [
              0.3333333333333333,
              "#9c179e"
             ],
             [
              0.4444444444444444,
              "#bd3786"
             ],
             [
              0.5555555555555556,
              "#d8576b"
             ],
             [
              0.6666666666666666,
              "#ed7953"
             ],
             [
              0.7777777777777778,
              "#fb9f3a"
             ],
             [
              0.8888888888888888,
              "#fdca26"
             ],
             [
              1,
              "#f0f921"
             ]
            ],
            "type": "histogram2d"
           }
          ],
          "histogram2dcontour": [
           {
            "colorbar": {
             "outlinewidth": 0,
             "ticks": ""
            },
            "colorscale": [
             [
              0,
              "#0d0887"
             ],
             [
              0.1111111111111111,
              "#46039f"
             ],
             [
              0.2222222222222222,
              "#7201a8"
             ],
             [
              0.3333333333333333,
              "#9c179e"
             ],
             [
              0.4444444444444444,
              "#bd3786"
             ],
             [
              0.5555555555555556,
              "#d8576b"
             ],
             [
              0.6666666666666666,
              "#ed7953"
             ],
             [
              0.7777777777777778,
              "#fb9f3a"
             ],
             [
              0.8888888888888888,
              "#fdca26"
             ],
             [
              1,
              "#f0f921"
             ]
            ],
            "type": "histogram2dcontour"
           }
          ],
          "mesh3d": [
           {
            "colorbar": {
             "outlinewidth": 0,
             "ticks": ""
            },
            "type": "mesh3d"
           }
          ],
          "parcoords": [
           {
            "line": {
             "colorbar": {
              "outlinewidth": 0,
              "ticks": ""
             }
            },
            "type": "parcoords"
           }
          ],
          "pie": [
           {
            "automargin": true,
            "type": "pie"
           }
          ],
          "scatter": [
           {
            "marker": {
             "line": {
              "color": "#283442"
             }
            },
            "type": "scatter"
           }
          ],
          "scatter3d": [
           {
            "line": {
             "colorbar": {
              "outlinewidth": 0,
              "ticks": ""
             }
            },
            "marker": {
             "colorbar": {
              "outlinewidth": 0,
              "ticks": ""
             }
            },
            "type": "scatter3d"
           }
          ],
          "scattercarpet": [
           {
            "marker": {
             "colorbar": {
              "outlinewidth": 0,
              "ticks": ""
             }
            },
            "type": "scattercarpet"
           }
          ],
          "scattergeo": [
           {
            "marker": {
             "colorbar": {
              "outlinewidth": 0,
              "ticks": ""
             }
            },
            "type": "scattergeo"
           }
          ],
          "scattergl": [
           {
            "marker": {
             "line": {
              "color": "#283442"
             }
            },
            "type": "scattergl"
           }
          ],
          "scattermapbox": [
           {
            "marker": {
             "colorbar": {
              "outlinewidth": 0,
              "ticks": ""
             }
            },
            "type": "scattermapbox"
           }
          ],
          "scatterpolar": [
           {
            "marker": {
             "colorbar": {
              "outlinewidth": 0,
              "ticks": ""
             }
            },
            "type": "scatterpolar"
           }
          ],
          "scatterpolargl": [
           {
            "marker": {
             "colorbar": {
              "outlinewidth": 0,
              "ticks": ""
             }
            },
            "type": "scatterpolargl"
           }
          ],
          "scatterternary": [
           {
            "marker": {
             "colorbar": {
              "outlinewidth": 0,
              "ticks": ""
             }
            },
            "type": "scatterternary"
           }
          ],
          "surface": [
           {
            "colorbar": {
             "outlinewidth": 0,
             "ticks": ""
            },
            "colorscale": [
             [
              0,
              "#0d0887"
             ],
             [
              0.1111111111111111,
              "#46039f"
             ],
             [
              0.2222222222222222,
              "#7201a8"
             ],
             [
              0.3333333333333333,
              "#9c179e"
             ],
             [
              0.4444444444444444,
              "#bd3786"
             ],
             [
              0.5555555555555556,
              "#d8576b"
             ],
             [
              0.6666666666666666,
              "#ed7953"
             ],
             [
              0.7777777777777778,
              "#fb9f3a"
             ],
             [
              0.8888888888888888,
              "#fdca26"
             ],
             [
              1,
              "#f0f921"
             ]
            ],
            "type": "surface"
           }
          ],
          "table": [
           {
            "cells": {
             "fill": {
              "color": "#506784"
             },
             "line": {
              "color": "rgb(17,17,17)"
             }
            },
            "header": {
             "fill": {
              "color": "#2a3f5f"
             },
             "line": {
              "color": "rgb(17,17,17)"
             }
            },
            "type": "table"
           }
          ]
         },
         "layout": {
          "annotationdefaults": {
           "arrowcolor": "#f2f5fa",
           "arrowhead": 0,
           "arrowwidth": 1
          },
          "autotypenumbers": "strict",
          "coloraxis": {
           "colorbar": {
            "outlinewidth": 0,
            "ticks": ""
           }
          },
          "colorscale": {
           "diverging": [
            [
             0,
             "#8e0152"
            ],
            [
             0.1,
             "#c51b7d"
            ],
            [
             0.2,
             "#de77ae"
            ],
            [
             0.3,
             "#f1b6da"
            ],
            [
             0.4,
             "#fde0ef"
            ],
            [
             0.5,
             "#f7f7f7"
            ],
            [
             0.6,
             "#e6f5d0"
            ],
            [
             0.7,
             "#b8e186"
            ],
            [
             0.8,
             "#7fbc41"
            ],
            [
             0.9,
             "#4d9221"
            ],
            [
             1,
             "#276419"
            ]
           ],
           "sequential": [
            [
             0,
             "#0d0887"
            ],
            [
             0.1111111111111111,
             "#46039f"
            ],
            [
             0.2222222222222222,
             "#7201a8"
            ],
            [
             0.3333333333333333,
             "#9c179e"
            ],
            [
             0.4444444444444444,
             "#bd3786"
            ],
            [
             0.5555555555555556,
             "#d8576b"
            ],
            [
             0.6666666666666666,
             "#ed7953"
            ],
            [
             0.7777777777777778,
             "#fb9f3a"
            ],
            [
             0.8888888888888888,
             "#fdca26"
            ],
            [
             1,
             "#f0f921"
            ]
           ],
           "sequentialminus": [
            [
             0,
             "#0d0887"
            ],
            [
             0.1111111111111111,
             "#46039f"
            ],
            [
             0.2222222222222222,
             "#7201a8"
            ],
            [
             0.3333333333333333,
             "#9c179e"
            ],
            [
             0.4444444444444444,
             "#bd3786"
            ],
            [
             0.5555555555555556,
             "#d8576b"
            ],
            [
             0.6666666666666666,
             "#ed7953"
            ],
            [
             0.7777777777777778,
             "#fb9f3a"
            ],
            [
             0.8888888888888888,
             "#fdca26"
            ],
            [
             1,
             "#f0f921"
            ]
           ]
          },
          "colorway": [
           "#636efa",
           "#EF553B",
           "#00cc96",
           "#ab63fa",
           "#FFA15A",
           "#19d3f3",
           "#FF6692",
           "#B6E880",
           "#FF97FF",
           "#FECB52"
          ],
          "font": {
           "color": "#f2f5fa"
          },
          "geo": {
           "bgcolor": "rgb(17,17,17)",
           "lakecolor": "rgb(17,17,17)",
           "landcolor": "rgb(17,17,17)",
           "showlakes": true,
           "showland": true,
           "subunitcolor": "#506784"
          },
          "hoverlabel": {
           "align": "left"
          },
          "hovermode": "closest",
          "mapbox": {
           "style": "dark"
          },
          "paper_bgcolor": "rgb(17,17,17)",
          "plot_bgcolor": "rgb(17,17,17)",
          "polar": {
           "angularaxis": {
            "gridcolor": "#506784",
            "linecolor": "#506784",
            "ticks": ""
           },
           "bgcolor": "rgb(17,17,17)",
           "radialaxis": {
            "gridcolor": "#506784",
            "linecolor": "#506784",
            "ticks": ""
           }
          },
          "scene": {
           "xaxis": {
            "backgroundcolor": "rgb(17,17,17)",
            "gridcolor": "#506784",
            "gridwidth": 2,
            "linecolor": "#506784",
            "showbackground": true,
            "ticks": "",
            "zerolinecolor": "#C8D4E3"
           },
           "yaxis": {
            "backgroundcolor": "rgb(17,17,17)",
            "gridcolor": "#506784",
            "gridwidth": 2,
            "linecolor": "#506784",
            "showbackground": true,
            "ticks": "",
            "zerolinecolor": "#C8D4E3"
           },
           "zaxis": {
            "backgroundcolor": "rgb(17,17,17)",
            "gridcolor": "#506784",
            "gridwidth": 2,
            "linecolor": "#506784",
            "showbackground": true,
            "ticks": "",
            "zerolinecolor": "#C8D4E3"
           }
          },
          "shapedefaults": {
           "line": {
            "color": "#f2f5fa"
           }
          },
          "sliderdefaults": {
           "bgcolor": "#C8D4E3",
           "bordercolor": "rgb(17,17,17)",
           "borderwidth": 1,
           "tickwidth": 0
          },
          "ternary": {
           "aaxis": {
            "gridcolor": "#506784",
            "linecolor": "#506784",
            "ticks": ""
           },
           "baxis": {
            "gridcolor": "#506784",
            "linecolor": "#506784",
            "ticks": ""
           },
           "bgcolor": "rgb(17,17,17)",
           "caxis": {
            "gridcolor": "#506784",
            "linecolor": "#506784",
            "ticks": ""
           }
          },
          "title": {
           "x": 0.05
          },
          "updatemenudefaults": {
           "bgcolor": "#506784",
           "borderwidth": 0
          },
          "xaxis": {
           "automargin": true,
           "gridcolor": "#283442",
           "linecolor": "#506784",
           "ticks": "",
           "title": {
            "standoff": 15
           },
           "zerolinecolor": "#283442",
           "zerolinewidth": 2
          },
          "yaxis": {
           "automargin": true,
           "gridcolor": "#283442",
           "linecolor": "#506784",
           "ticks": "",
           "title": {
            "standoff": 15
           },
           "zerolinecolor": "#283442",
           "zerolinewidth": 2
          }
         }
        },
        "title": {
         "text": "Data volume by country"
        },
        "xaxis": {
         "anchor": "y",
         "domain": [
          0,
          1
         ],
         "title": {
          "text": "Country"
         }
        },
        "yaxis": {
         "anchor": "x",
         "domain": [
          0,
          1
         ],
         "title": {
          "text": "Number of job offers"
         }
        }
       }
      }
     },
     "metadata": {},
     "output_type": "display_data"
    }
   ],
   "source": [
    "freq_countries_dict = df.country.value_counts().to_dict()\n",
    "fig_countries_freq = px.bar(\n",
    "    x=freq_countries_dict.keys(),\n",
    "    y=freq_countries_dict.values(),\n",
    "    labels=dict(y='Number of job offers', x='Country'),\n",
    "    template='plotly_dark',\n",
    "    title='Data volume by country'\n",
    ")\n",
    "fig_countries_freq.show()"
   ]
  }
 ],
 "metadata": {
  "kernelspec": {
   "display_name": "Python 3",
   "language": "python",
   "name": "python3"
  },
  "language_info": {
   "codemirror_mode": {
    "name": "ipython",
    "version": 3
   },
   "file_extension": ".py",
   "mimetype": "text/x-python",
   "name": "python",
   "nbconvert_exporter": "python",
   "pygments_lexer": "ipython3",
   "version": "3.10.5"
  },
  "orig_nbformat": 4,
  "vscode": {
   "interpreter": {
    "hash": "98cfd3921b80fce92f18dc4e1e6b42f6eadf3f9330e6432d51b357bcfc802bfb"
   }
  }
 },
 "nbformat": 4,
 "nbformat_minor": 2
}
