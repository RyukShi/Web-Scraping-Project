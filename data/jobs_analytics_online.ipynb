{
 "cells": [
  {
   "attachments": {},
   "cell_type": "markdown",
   "metadata": {},
   "source": [
    "### Introduction\n",
    "\n",
    "#### Français\n",
    "Ce Jupyter Notebook vise à représenter mes propres données que j'ai extraites des sites d'emploi via un processus de web scraping, ces données sont des offres d'emploi provenant essentiellement de LinkedIn, mais à l'avenir, je mettrai en œuvre un scraper pour extraire les offres du site web Indeed, afin d'avoir des données diversifiées. Pour l'instant avec les données que j'ai en ma possession, j'ai représenté sous forme graphique les technologies web les plus couramment utilisées dans les projets web d'entreprise dans les pays de l'UE et certains pays d'Asie.\n",
    "\n",
    "#### English\n",
    "This Jupyter Notebook aims to represent my own data that I extracted from jobboards via a web scraping process, this data is job offers coming mainly from LinkedIn, but in the future I will implement a scraper to extract job offers from Indeed website, in order to have diversified data. For now, with the data I have in my possession, I have represented in graphical form the most commonly used web technologies in companies web projects in EU countries and some Asian countries."
   ]
  },
  {
   "attachments": {},
   "cell_type": "markdown",
   "metadata": {},
   "source": [
    "### Import libraries"
   ]
  },
  {
   "cell_type": "code",
   "execution_count": null,
   "metadata": {},
   "outputs": [],
   "source": [
    "from pandas import Series, DataFrame, read_sql_table\n",
    "from sqlalchemy import create_engine\n",
    "import plotly.express as px"
   ]
  },
  {
   "attachments": {},
   "cell_type": "markdown",
   "metadata": {},
   "source": [
    "### Loading and filtering data"
   ]
  },
  {
   "cell_type": "code",
   "execution_count": null,
   "metadata": {},
   "outputs": [],
   "source": [
    "disk_engine = create_engine(\"{server}+{dialect}://{username}:{password}@{host}:{port}/{database}\".format(\n",
    "    server='mysql',\n",
    "    dialect='pymysql',\n",
    "    host='localhost',\n",
    "    username='root',\n",
    "    password='password',\n",
    "    port='3306',\n",
    "    database='web_scraping_project'\n",
    "), pool_recycle=14400)\n",
    "\n",
    "df = read_sql_table('jobs_offers', disk_engine)\n",
    "\n",
    "# delete unnecessary columns\n",
    "df.drop(['description', 'company_url', 'date_time', 'criteria'], axis=1, inplace=True)\n",
    "\n",
    "# set job_offer_id as default index\n",
    "df.set_index('job_offer_id', inplace=True)\n",
    "\n",
    "# technologies filter\n",
    "technologies_filter = df.technologies.apply(lambda d: d != None and len(d) > 0)\n",
    "\n",
    "# apply technologies filter to df\n",
    "df = df[technologies_filter]\n",
    "df.info()"
   ]
  },
  {
   "attachments": {},
   "cell_type": "markdown",
   "metadata": {},
   "source": [
    "### Utility function"
   ]
  },
  {
   "cell_type": "code",
   "execution_count": null,
   "metadata": {},
   "outputs": [],
   "source": [
    "def tech_value_counts(df: DataFrame, normalize: bool = True) -> dict:\n",
    "    D = {\n",
    "        \"Python Frameworks\": [[], 0],\n",
    "        \"PHP Frameworks\": [[], 0],\n",
    "        \"JavaScript Frameworks\": [[], 0],\n",
    "        \"Main tech\": [[], 0],\n",
    "        \"Java Frameworks\": [[], 0],\n",
    "        \"Project management\": [[], 0],\n",
    "        \"Hosting services\": [[], 0],\n",
    "        \"DBMS\": [[], 0], \"Tests\": [[], 0],\n",
    "        \"Other Frameworks\": [[], 0],\n",
    "        \"App container\": [[], 0],\n",
    "        \"Cloud computing\": [[], 0],\n",
    "        \"CMS\": [[], 0],\n",
    "        \"Bundlers\": [[], 0],\n",
    "        \"Task runners\": [[], 0]\n",
    "    }\n",
    "    for dictionary in df.technologies:\n",
    "        for category in D.keys():\n",
    "            if dictionary.__contains__(category):\n",
    "                D[category][0].extend(dictionary[category])\n",
    "                D[category][1] += 1\n",
    "    return {k: (Series(v[0]).value_counts(normalize=normalize), v[1]) \n",
    "            for k, v in D.items() if v[1] >= 100}\n",
    "\n",
    "def create_bubble_charts(value_counts: dict, threshold: float, show: bool = True):\n",
    "    \"\"\"\n",
    "    This function allows to create bubble charts by category\n",
    "    \"\"\"\n",
    "    # all figures\n",
    "    F = []\n",
    "    for category, (counts, total) in value_counts.items():\n",
    "        data = []\n",
    "        for technology, value in counts.items():\n",
    "            if value >= threshold:\n",
    "                data.append(dict(Technology=technology, Value=value))\n",
    "        \n",
    "        bubble_chart = px.scatter(\n",
    "            data_frame=data,\n",
    "            x='Technology',\n",
    "            y='Value',\n",
    "            text='Technology',\n",
    "            size='Value',\n",
    "            title=f\"{category} category, number of job offers : {total}\",\n",
    "            hover_name=\"Technology\", width=1000, height=800, size_max=100,\n",
    "            template='plotly_dark'\n",
    "        )\n",
    "        bubble_chart.update_layout(xaxis=dict(visible=False))\n",
    "        F.append(bubble_chart)\n",
    "    if show:\n",
    "        for fig in F:\n",
    "            fig.show()\n",
    "    else:\n",
    "        return F\n",
    "\n",
    "def create_pie_charts(value_counts: dict, threshold: float, show: bool = True):\n",
    "    \"\"\"\n",
    "    This function allows to create pie charts by category\n",
    "    \"\"\"\n",
    "    # all figures\n",
    "    F = []\n",
    "    for category, (counts, total) in value_counts.items():\n",
    "        data = []\n",
    "        for technology, value in counts.items():\n",
    "            if value >= threshold:\n",
    "                data.append(dict(Technology=technology, Value=value))\n",
    "        pie_chart = px.pie(\n",
    "            data_frame=data,\n",
    "            names='Technology',\n",
    "            values='Value',\n",
    "            hover_name=\"Technology\",\n",
    "            title=f\"{category} category, number of job offers : {total}\",\n",
    "            width=1000, height=800, template='plotly_dark'\n",
    "        )\n",
    "        F.append(pie_chart)\n",
    "    if show:\n",
    "        for fig in F:\n",
    "            fig.show()\n",
    "    else:\n",
    "        return F\n",
    "\n",
    "def create_bar_charts(value_counts: dict, threshold: float, show: bool = True):\n",
    "    \"\"\"\n",
    "    This function allows to create bar charts by category\n",
    "    \"\"\"\n",
    "    # all figures\n",
    "    F = []\n",
    "    for category, (counts, total) in value_counts.items():\n",
    "        data = []\n",
    "        for technology, value in counts.items():\n",
    "            if value >= threshold:\n",
    "                data.append(dict(Technology=technology, Value=value))\n",
    "        bar_chart = px.bar(\n",
    "            data_frame=data,\n",
    "            x='Technology',\n",
    "            y='Value',\n",
    "            hover_name=\"Technology\",\n",
    "            title=f\"{category} category, number of job offers : {total}\",\n",
    "            width=1000, height=800, template='plotly_dark'\n",
    "        )\n",
    "        F.append(bar_chart)\n",
    "    if show:\n",
    "        for fig in F:\n",
    "            fig.show()\n",
    "    else:\n",
    "        return F"
   ]
  },
  {
   "attachments": {},
   "cell_type": "markdown",
   "metadata": {},
   "source": [
    "### Data Analysis"
   ]
  },
  {
   "cell_type": "code",
   "execution_count": null,
   "metadata": {},
   "outputs": [],
   "source": [
    "value_counts = tech_value_counts(df)\n",
    "threshold = 0.005\n",
    "create_pie_charts(value_counts, threshold)\n",
    "#create_bubble_charts(value_counts, threshold)\n",
    "#create_bar_charts(value_counts, threshold)"
   ]
  },
  {
   "cell_type": "code",
   "execution_count": null,
   "metadata": {},
   "outputs": [],
   "source": [
    "counts_countries_dict = df.country.value_counts().to_dict()\n",
    "fig_countries_freq = px.bar(\n",
    "    x=counts_countries_dict.keys(),\n",
    "    y=counts_countries_dict.values(),\n",
    "    labels=dict(y='Number of job offers', x='Country'),\n",
    "    template='plotly_dark',\n",
    "    title=f\"Data volume by country, number of country : {len(counts_countries_dict)}\"\n",
    ")\n",
    "fig_countries_freq.show()"
   ]
  }
 ],
 "metadata": {
  "kernelspec": {
   "display_name": "Python 3",
   "language": "python",
   "name": "python3"
  },
  "language_info": {
   "codemirror_mode": {
    "name": "ipython",
    "version": 3
   },
   "file_extension": ".py",
   "mimetype": "text/x-python",
   "name": "python",
   "nbconvert_exporter": "python",
   "pygments_lexer": "ipython3",
   "version": "3.10.5 (tags/v3.10.5:f377153, Jun  6 2022, 16:14:13) [MSC v.1929 64 bit (AMD64)]"
  },
  "orig_nbformat": 4,
  "vscode": {
   "interpreter": {
    "hash": "98cfd3921b80fce92f18dc4e1e6b42f6eadf3f9330e6432d51b357bcfc802bfb"
   }
  }
 },
 "nbformat": 4,
 "nbformat_minor": 2
}
